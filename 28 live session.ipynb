{
 "cells": [
  {
   "cell_type": "code",
   "execution_count": 1,
   "id": "a43e280f",
   "metadata": {},
   "outputs": [
    {
     "name": "stdout",
     "output_type": "stream",
     "text": [
      "divya jyothi\n"
     ]
    }
   ],
   "source": [
    "print(\"divya jyothi\")"
   ]
  },
  {
   "cell_type": "code",
   "execution_count": 2,
   "id": "39f28f39",
   "metadata": {},
   "outputs": [
    {
     "name": "stdout",
     "output_type": "stream",
     "text": [
      "x=10\n",
      "y=20\n"
     ]
    }
   ],
   "source": [
    "print(\"x=10\")\n",
    "print(\"y=20\")"
   ]
  },
  {
   "cell_type": "code",
   "execution_count": 3,
   "id": "1b8bb4da",
   "metadata": {},
   "outputs": [
    {
     "name": "stdout",
     "output_type": "stream",
     "text": [
      "x+y\n"
     ]
    }
   ],
   "source": [
    "print(\"x+y\")"
   ]
  },
  {
   "cell_type": "code",
   "execution_count": 4,
   "id": "35b36ef3",
   "metadata": {},
   "outputs": [
    {
     "name": "stdout",
     "output_type": "stream",
     "text": [
      "x=10\n",
      "y=20\n",
      "x+y\n"
     ]
    }
   ],
   "source": [
    "print(\"x=10\")\n",
    "print(\"y=20\")\n",
    "print(\"x+y\")\n"
   ]
  },
  {
   "cell_type": "code",
   "execution_count": 5,
   "id": "6779e844",
   "metadata": {},
   "outputs": [
    {
     "name": "stdout",
     "output_type": "stream",
     "text": [
      "10\n",
      "hello world\n"
     ]
    }
   ],
   "source": [
    "x=10\n",
    "y='hello world'\n",
    "print(x)\n",
    "print(y)"
   ]
  },
  {
   "cell_type": "code",
   "execution_count": 6,
   "id": "923439cb",
   "metadata": {},
   "outputs": [
    {
     "name": "stdout",
     "output_type": "stream",
     "text": [
      "10 hello world\n"
     ]
    }
   ],
   "source": [
    "print(x,y)"
   ]
  },
  {
   "cell_type": "code",
   "execution_count": 7,
   "id": "6074660a",
   "metadata": {},
   "outputs": [
    {
     "name": "stdout",
     "output_type": "stream",
     "text": [
      "the value of x and y is =  10 hello world\n"
     ]
    }
   ],
   "source": [
    "# The value of x is = 10\n",
    "print(\"the value of x and y is = \",x,y)"
   ]
  },
  {
   "cell_type": "code",
   "execution_count": 12,
   "id": "694e1ad1",
   "metadata": {},
   "outputs": [
    {
     "ename": "SyntaxError",
     "evalue": "invalid syntax (1980521690.py, line 4)",
     "output_type": "error",
     "traceback": [
      "\u001b[1;36m  Input \u001b[1;32mIn [12]\u001b[1;36m\u001b[0m\n\u001b[1;33m    print('the value of x is' x, 'and y is 'y)\u001b[0m\n\u001b[1;37m                              ^\u001b[0m\n\u001b[1;31mSyntaxError\u001b[0m\u001b[1;31m:\u001b[0m invalid syntax\n"
     ]
    }
   ],
   "source": [
    "# The value of x is 10 and y is hello\n",
    "# sign indicates a comment that is non executable statement\n",
    "\n",
    "print('the value of x is' x, 'and y is 'y)\n",
    "\n",
    "\n"
   ]
  },
  {
   "cell_type": "code",
   "execution_count": 13,
   "id": "c48d6a85",
   "metadata": {},
   "outputs": [
    {
     "name": "stdout",
     "output_type": "stream",
     "text": [
      "the value of x is 10 and y is hello world\n"
     ]
    }
   ],
   "source": [
    "# The value of x is 10 and y is Hello\n",
    "# sign indicates a comment that is a non executable statement\n",
    "print(\"the value of x is\", x, 'and y is',y) "
   ]
  },
  {
   "cell_type": "code",
   "execution_count": 14,
   "id": "abadb742",
   "metadata": {},
   "outputs": [
    {
     "name": "stdout",
     "output_type": "stream",
     "text": [
      "<class 'int'>\n"
     ]
    }
   ],
   "source": [
    "print(type(x))"
   ]
  },
  {
   "cell_type": "code",
   "execution_count": 15,
   "id": "1760b39f",
   "metadata": {},
   "outputs": [
    {
     "name": "stdout",
     "output_type": "stream",
     "text": [
      "<class 'float'>\n"
     ]
    }
   ],
   "source": [
    "print(type(0.5))"
   ]
  },
  {
   "cell_type": "code",
   "execution_count": 16,
   "id": "5b5c2d9e",
   "metadata": {},
   "outputs": [],
   "source": [
    "b=True\n"
   ]
  },
  {
   "cell_type": "code",
   "execution_count": 19,
   "id": "d23c5560",
   "metadata": {},
   "outputs": [],
   "source": [
    "b=True"
   ]
  },
  {
   "cell_type": "code",
   "execution_count": 22,
   "id": "0085ba54",
   "metadata": {},
   "outputs": [
    {
     "name": "stdout",
     "output_type": "stream",
     "text": [
      "<class 'bool'>\n"
     ]
    }
   ],
   "source": [
    "b=True\n",
    "print(type(b))\n"
   ]
  },
  {
   "cell_type": "code",
   "execution_count": 26,
   "id": "b5dfd7ab",
   "metadata": {},
   "outputs": [
    {
     "name": "stdout",
     "output_type": "stream",
     "text": [
      "<class 'str'>\n"
     ]
    }
   ],
   "source": [
    "# True and Flase\n",
    "x=10\n",
    "y=20\n",
    "print(type(\"x+y\"))"
   ]
  },
  {
   "cell_type": "code",
   "execution_count": null,
   "id": "dbc647f5",
   "metadata": {},
   "outputs": [],
   "source": []
  }
 ],
 "metadata": {
  "kernelspec": {
   "display_name": "Python 3 (ipykernel)",
   "language": "python",
   "name": "python3"
  },
  "language_info": {
   "codemirror_mode": {
    "name": "ipython",
    "version": 3
   },
   "file_extension": ".py",
   "mimetype": "text/x-python",
   "name": "python",
   "nbconvert_exporter": "python",
   "pygments_lexer": "ipython3",
   "version": "3.9.12"
  }
 },
 "nbformat": 4,
 "nbformat_minor": 5
}
